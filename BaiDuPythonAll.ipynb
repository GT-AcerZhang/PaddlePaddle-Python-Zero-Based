{
 "cells": [
  {
   "cell_type": "code",
   "execution_count": 1,
   "metadata": {},
   "outputs": [
    {
     "name": "stdout",
     "output_type": "stream",
     "text": [
      "Hello World!\n"
     ]
    }
   ],
   "source": [
    "print('Hello World!')"
   ]
  },
  {
   "cell_type": "code",
   "execution_count": 2,
   "metadata": {},
   "outputs": [
    {
     "name": "stdout",
     "output_type": "stream",
     "text": [
      "上课时间： 2 小时\n"
     ]
    }
   ],
   "source": [
    "print('上课时间：', 2,'小时')"
   ]
  },
  {
   "cell_type": "code",
   "execution_count": 3,
   "metadata": {},
   "outputs": [
    {
     "name": "stdout",
     "output_type": "stream",
     "text": [
      "输入您的名字:ydh\n",
      "ydh\n"
     ]
    }
   ],
   "source": [
    "n = input('输入您的名字:')\n",
    "print(n)"
   ]
  },
  {
   "cell_type": "code",
   "execution_count": 4,
   "metadata": {},
   "outputs": [
    {
     "name": "stdout",
     "output_type": "stream",
     "text": [
      "这台冰箱多少钱？3000\n",
      "猜低了！再猜4000\n",
      "猜高了！再猜3200\n",
      "\n",
      "恭喜您，猜对了！\n",
      "\n"
     ]
    }
   ],
   "source": [
    "# python的小Demo代码\n",
    "\"\"\"\n",
    "猜数字小游戏  \n",
    "\"\"\"\n",
    "\n",
    "my_number = 3200  # 这是真实的价格\n",
    "guess_number = input('这台冰箱多少钱？')   # 所有符号都是英文标点（半角字符）\n",
    "guess_number = int(guess_number)            #input默认全部为string，转换为int数字\n",
    "while guess_number != my_number:          #循环进行游戏\n",
    "    if guess_number<my_number:               # 使用缩进来标识代码段\n",
    "        guess_number = input('猜低了！再猜')\n",
    "        guess_number = int(guess_number)\n",
    "    else:\n",
    "        guess_number = input('猜高了！再猜')\n",
    "        guess_number = int(guess_number)\n",
    "print('\\n恭喜您，猜对了！\\n')"
   ]
  },
  {
   "cell_type": "code",
   "execution_count": 5,
   "metadata": {},
   "outputs": [
    {
     "name": "stdout",
     "output_type": "stream",
     "text": [
      "3\n",
      "-1\n",
      "2\n",
      "0.5\n",
      "0\n",
      "1\n",
      "4\n",
      "2015.5\n",
      "0.30000000000000004\n",
      "1.1\n"
     ]
    }
   ],
   "source": [
    "# 认识运算符\n",
    "print(1+2)   # 加法\n",
    "print(1-2)   # 减法\n",
    "print(1*2)   # 乘法\n",
    "print(1/2)   # 除法\n",
    "print(1//2)  # 整除 (向下取整)\n",
    "print(1%2)   # 取余数\n",
    "print(2**2)  # 幂运算\n",
    "print(2020- 5*5/2 +8**1)   #结合顺序和一般的数学运算符一样\n",
    "\n",
    "# 浮点数的计算精度\n",
    "print(0.1+0.2)\n",
    "\n",
    "#此外浮点数+整数会变为浮点数\n",
    "print(1+0.1)"
   ]
  },
  {
   "cell_type": "code",
   "execution_count": 7,
   "metadata": {},
   "outputs": [
    {
     "name": "stdout",
     "output_type": "stream",
     "text": [
      "this is a string\n",
      "yes\n",
      "爸爸说：\"今天我做饭\"\n",
      "爸爸说：\"今天我做饭\"\n",
      "12\n"
     ]
    }
   ],
   "source": [
    "print('this is a string')\n",
    "print(\"yes\")\n",
    "print('爸爸说：\"今天我做饭\"')\n",
    "print(\"爸爸说：\\\"今天我做饭\\\"\")\n",
    "print(len('hello world!'))"
   ]
  },
  {
   "cell_type": "code",
   "execution_count": 8,
   "metadata": {},
   "outputs": [
    {
     "name": "stdout",
     "output_type": "stream",
     "text": [
      "False\n",
      "True\n"
     ]
    }
   ],
   "source": [
    "print(1==2)\n",
    "print(1==1)"
   ]
  },
  {
   "cell_type": "code",
   "execution_count": 9,
   "metadata": {},
   "outputs": [],
   "source": [
    "number = 1\n",
    "number = 5.5\n",
    "number = 'number'\n",
    "\n",
    "# 给变量赋值\n",
    "Number = 5\n",
    "number = 10.5\n",
    "NUMBER = 20\n",
    "\n",
    "name = 'iterhui'\n",
    "beautiful = True \n",
    "\n",
    "# 给变量赋值\n",
    "number += 2\n",
    "number -= 5\n",
    "number *= 4\n",
    "number /= 6\n",
    "number %= 2\n",
    "number **= 5\n",
    "number //= 5"
   ]
  },
  {
   "cell_type": "code",
   "execution_count": 11,
   "metadata": {},
   "outputs": [
    {
     "name": "stdout",
     "output_type": "stream",
     "text": [
      "2 4 True 0.6\n"
     ]
    }
   ],
   "source": [
    "a = int(2.5)\n",
    "b= str(4)\n",
    "c = bool(3)  # 非0： Ture 其它 False\n",
    "d = float('0.6')\n",
    "\n",
    "print(a,b,c,d)"
   ]
  },
  {
   "cell_type": "code",
   "execution_count": 14,
   "metadata": {},
   "outputs": [
    {
     "name": "stdout",
     "output_type": "stream",
     "text": [
      "[1, 2, 3, 4, 5]\n",
      "['a', 'b', 'c', 'd', 'e', 'f']\n",
      "['physics', 'chemistry', 1997, 2000]\n",
      "5\n",
      "5\n",
      "['physics', 'chemistry', 1997, 2000, 5]\n",
      "[1, 2, 3, 4]\n"
     ]
    }
   ],
   "source": [
    "list1 = [1, 2, 3, 4, 5 ]\n",
    "list2 = [\"a\", \"b\", \"c\", \"d\",\"e\",\"f\"]\n",
    "list3 = ['physics', 'chemistry', 1997, 2000]\n",
    "print(list1)\n",
    "print(list2)\n",
    "print(list3)\n",
    "\n",
    "len(list1)\n",
    "print(len(list1))\n",
    "\n",
    "list1[4]\n",
    "print(list1[4])\n",
    "\n",
    "list3.append(5)\n",
    "print(list3)\n",
    "\n",
    "list1.pop()\n",
    "print(list1)\n"
   ]
  },
  {
   "cell_type": "code",
   "execution_count": 15,
   "metadata": {},
   "outputs": [
    {
     "name": "stdout",
     "output_type": "stream",
     "text": [
      "(1, 2, 3, 4, 5)\n",
      "('a', 'b', 'c', 'd', 'e', 'f')\n",
      "('physics', 'chemistry', 1997, 2000)\n",
      "5\n"
     ]
    },
    {
     "ename": "AttributeError",
     "evalue": "'tuple' object has no attribute 'append'",
     "output_type": "error",
     "traceback": [
      "\u001b[1;31m---------------------------------------------------------------------------\u001b[0m",
      "\u001b[1;31mAttributeError\u001b[0m                            Traceback (most recent call last)",
      "\u001b[1;32m<ipython-input-15-c39d46aa9e4e>\u001b[0m in \u001b[0;36m<module>\u001b[1;34m\u001b[0m\n\u001b[0;32m      8\u001b[0m \u001b[0mprint\u001b[0m\u001b[1;33m(\u001b[0m\u001b[0mlen\u001b[0m\u001b[1;33m(\u001b[0m\u001b[0mtuple1\u001b[0m\u001b[1;33m)\u001b[0m\u001b[1;33m)\u001b[0m\u001b[1;33m\u001b[0m\u001b[1;33m\u001b[0m\u001b[0m\n\u001b[0;32m      9\u001b[0m \u001b[1;33m\u001b[0m\u001b[0m\n\u001b[1;32m---> 10\u001b[1;33m \u001b[0mtuple1\u001b[0m\u001b[1;33m.\u001b[0m\u001b[0mappend\u001b[0m\u001b[1;33m(\u001b[0m\u001b[1;36m3\u001b[0m\u001b[1;33m)\u001b[0m\u001b[1;33m\u001b[0m\u001b[1;33m\u001b[0m\u001b[0m\n\u001b[0m\u001b[0;32m     11\u001b[0m \u001b[0mprint\u001b[0m\u001b[1;33m(\u001b[0m\u001b[0mtuple1\u001b[0m\u001b[1;33m)\u001b[0m\u001b[1;33m\u001b[0m\u001b[1;33m\u001b[0m\u001b[0m\n",
      "\u001b[1;31mAttributeError\u001b[0m: 'tuple' object has no attribute 'append'"
     ]
    }
   ],
   "source": [
    "tuple1 = (1, 2, 3, 4, 5 )\n",
    "tuple2 = (\"a\", \"b\", \"c\", \"d\",\"e\",\"f\")\n",
    "tuple3 = ('physics', 'chemistry', 1997, 2000)\n",
    "print(tuple1)\n",
    "print(tuple2)\n",
    "print(tuple3)\n",
    "\n",
    "print(len(tuple1))\n",
    "\n",
    "tuple1.append(3)\n",
    "print(tuple1)"
   ]
  },
  {
   "cell_type": "code",
   "execution_count": 17,
   "metadata": {
    "scrolled": true
   },
   "outputs": [
    {
     "name": "stdout",
     "output_type": "stream",
     "text": [
      "苹果\n",
      "{'小张': 100, '小李': 80, '小赵': 60}\n"
     ]
    }
   ],
   "source": [
    "word = {'apple':'苹果','banana':'香蕉'}\n",
    "scores = {'小张':100, '小李':80}\n",
    "grad = {4:'很好',3: '好',2:'中',1:'差',0:'很差'}\n",
    "\n",
    "print(word.get('apple'))\n",
    "\n",
    "#增加数据 \n",
    "scores['小赵']=60\n",
    "print(scores)"
   ]
  },
  {
   "cell_type": "code",
   "execution_count": 19,
   "metadata": {},
   "outputs": [
    {
     "name": "stdout",
     "output_type": "stream",
     "text": [
      "{1, 2, 3, 4, 5, 8}\n"
     ]
    }
   ],
   "source": [
    "s = [1,1,2,3,4,8,5]\n",
    "\n",
    "s =set(s)\n",
    "\n",
    "#注意看，set是集合的意思，集合就会自动去重复和排序\n",
    "print(s)"
   ]
  },
  {
   "cell_type": "code",
   "execution_count": 20,
   "metadata": {},
   "outputs": [
    {
     "name": "stdout",
     "output_type": "stream",
     "text": [
      "及格\n"
     ]
    }
   ],
   "source": [
    "score = 80\n",
    "if score < 60:\n",
    "    print('不及格')\n",
    "else:\n",
    "    print('及格')"
   ]
  },
  {
   "cell_type": "code",
   "execution_count": 21,
   "metadata": {},
   "outputs": [
    {
     "name": "stdout",
     "output_type": "stream",
     "text": [
      "停\n"
     ]
    }
   ],
   "source": [
    "# 多分支：红灯停 绿灯行\n",
    "\n",
    "light = '红灯'\n",
    "\n",
    "if light == '红灯':\n",
    "    print('停')\n",
    "elif light == '绿灯':\n",
    "    print('行')\n",
    "else:\n",
    "    print('等一等')"
   ]
  },
  {
   "cell_type": "code",
   "execution_count": 22,
   "metadata": {},
   "outputs": [
    {
     "name": "stdout",
     "output_type": "stream",
     "text": [
      "1\n",
      "2\n",
      "3\n",
      "4\n",
      "5\n",
      "6\n",
      "7\n",
      "8\n",
      "9\n",
      "这台冰箱多少钱？4000\n",
      "猜高了！再猜3000\n",
      "猜低了！再猜3200\n",
      "\n",
      "恭喜您，猜对了！\n",
      "\n"
     ]
    }
   ],
   "source": [
    "# 从1数到9\n",
    "number = 1\n",
    "while number<10:   # 注意边界条件\n",
    "    print(number)\n",
    "    number+=1\n",
    "\n",
    "my_number = 3200  # 这是真实的价格\n",
    "guess_number = input('这台冰箱多少钱？') \n",
    "guess_number = int(guess_number)\n",
    "while guess_number != my_number:\n",
    "    if guess_number<my_number:   \n",
    "        guess_number = input('猜低了！再猜')\n",
    "        guess_number = int(guess_number)\n",
    "    else:\n",
    "        guess_number = input('猜高了！再猜')\n",
    "        guess_number = int(guess_number)\n",
    "print('\\n恭喜您，猜对了！\\n')"
   ]
  },
  {
   "cell_type": "code",
   "execution_count": 23,
   "metadata": {},
   "outputs": [
    {
     "name": "stdout",
     "output_type": "stream",
     "text": [
      "1\n",
      "2\n",
      "3\n",
      "4\n",
      "5\n",
      "6\n",
      "7\n",
      "8\n",
      "9\n",
      "当前水果 : banana\n",
      "当前水果 : apple\n",
      "当前水果 : mango\n",
      "当前字母 : P\n",
      "当前字母 : y\n",
      "当前字母 : t\n",
      "当前字母 : h\n",
      "当前字母 : o\n",
      "当前字母 : n\n"
     ]
    }
   ],
   "source": [
    "for i in range(9):\n",
    "    print(i+1)\n",
    "\n",
    "fruits = ['banana', 'apple',  'mango']\n",
    "for fruit in fruits:        # 第一个实例\n",
    "    print( '当前水果 :', fruit)\n",
    "    \n",
    "for letter in 'Python':     # 第二个实例\n",
    "    print( '当前字母 :', letter)\n",
    " "
   ]
  },
  {
   "cell_type": "code",
   "execution_count": 26,
   "metadata": {},
   "outputs": [
    {
     "name": "stdout",
     "output_type": "stream",
     "text": [
      "2\n",
      "4\n",
      "6\n",
      "8\n",
      "10\n"
     ]
    }
   ],
   "source": [
    "# continue : 跳过本轮 \n",
    "# 打印1-10中的偶数 \n",
    "for i in range(10):\n",
    "    num = i+1\n",
    "    if num%2 != 0:\n",
    "        continue\n",
    "    print(num)"
   ]
  },
  {
   "cell_type": "code",
   "execution_count": 31,
   "metadata": {},
   "outputs": [
    {
     "name": "stdout",
     "output_type": "stream",
     "text": [
      "找到了 2\n",
      "\n",
      "找到了 2\n",
      "找到了 2\n"
     ]
    }
   ],
   "source": [
    "# 查找list_1 中的数字\n",
    "list_1 = [1,6,3,2,8,4,3]\n",
    "for number in list_1:\n",
    "    if number == 3:\n",
    "        print(\"找到了\",list_1[number])\n",
    "        break  \n",
    "        \n",
    "print() #换行用\n",
    "        \n",
    "#结果没有输出两个，证明break执行了\n",
    "list_1 = [1,6,3,2,8,4,3]\n",
    "for number in list_1:\n",
    "    if number == 3:\n",
    "        print(\"找到了\",list_1[number])"
   ]
  },
  {
   "cell_type": "code",
   "execution_count": 32,
   "metadata": {},
   "outputs": [],
   "source": [
    "# pass： 占位，还没想好怎么写，先让程序跑起来\n",
    "for i in range(5):\n",
    "    pass"
   ]
  },
  {
   "cell_type": "code",
   "execution_count": 34,
   "metadata": {},
   "outputs": [
    {
     "name": "stdout",
     "output_type": "stream",
     "text": [
      "o\n",
      "o\n",
      "oll\n",
      "yllom\n",
      "l\n",
      "llo\n",
      "lo world!\n",
      "row ol\n"
     ]
    }
   ],
   "source": [
    "name = 'molly'\n",
    "a = name[1]  \n",
    "b = name[-4]\n",
    "c = name[1:4]\n",
    "d = name[::-1]\n",
    "print(a)\n",
    "print(b)\n",
    "print(c)\n",
    "print(d)\n",
    "\n",
    "# 小练习\n",
    "string = 'Hello world!'\n",
    "a = string[2]\n",
    "b = string[2:5]\n",
    "c =  string[3:]\n",
    "d = string[8:2:-1]\n",
    "print(a)\n",
    "print(b)\n",
    "print(c)\n",
    "print(d)"
   ]
  },
  {
   "cell_type": "code",
   "execution_count": 35,
   "metadata": {},
   "outputs": [
    {
     "name": "stdout",
     "output_type": "stream",
     "text": [
      "banana_p\n",
      "cherry_p\n"
     ]
    }
   ],
   "source": [
    "# 如果字符串以'p'结尾，则打印\n",
    "list_string = ['apple','banana_p','orange','cherry_p']\n",
    "for fruit in list_string:\n",
    "    if fruit[-1] == 'p':\n",
    "        print(fruit)"
   ]
  },
  {
   "cell_type": "code",
   "execution_count": 37,
   "metadata": {},
   "outputs": [
    {
     "name": "stdout",
     "output_type": "stream",
     "text": [
      "2\n",
      "3\n",
      "1\n"
     ]
    }
   ],
   "source": [
    "my_string = 'hello_world'\n",
    "a = my_string.count('o')\n",
    "print(a)\n",
    "\n",
    "article = 'Disney and Marvel’s upcoming superhero epic should light the box office on fire when it launches this weekend, with the hopes of setting domestic, international, and global records. In North America alone, “Avengers: Endgame” is expected to earn between $250 million and $268 million in its first three days of release. If it hits the higher part of that range it would qualify as the biggest domestic debut of all time, a distinction currently held by 2018’s “Avengers: Infinity War,” the precursor to “Endgame,” which launched with $257.7 million.'\n",
    "b=  article.count('and')\n",
    "print(b)\n",
    "\n",
    "my_string = 'aabcabca'\n",
    "c = my_string.count('abca')\n",
    "print(c)"
   ]
  },
  {
   "cell_type": "code",
   "execution_count": 38,
   "metadata": {},
   "outputs": [
    {
     "name": "stdout",
     "output_type": "stream",
     "text": [
      "4\n",
      "4\n"
     ]
    }
   ],
   "source": [
    "my_string = 'hello_world'\n",
    "a = my_string.find('o')\n",
    "print(a)\n",
    "\n",
    "my_string = 'hello_world'\n",
    "b= my_string.index('o')\n",
    "print(b)"
   ]
  },
  {
   "cell_type": "code",
   "execution_count": 40,
   "metadata": {},
   "outputs": [
    {
     "name": "stdout",
     "output_type": "stream",
     "text": [
      "True\n",
      "False\n"
     ]
    }
   ],
   "source": [
    "my_string = 'hello_world'\n",
    "a = my_string.startswith('hello')  # 是否以hello开始\n",
    "b = string.endswith('world')   # 是否以world结尾\n",
    "print(a)\n",
    "print(b)"
   ]
  },
  {
   "cell_type": "code",
   "execution_count": 42,
   "metadata": {},
   "outputs": [
    {
     "name": "stdout",
     "output_type": "stream",
     "text": [
      "['hello', 'world']\n",
      "<class 'list'>\n"
     ]
    }
   ],
   "source": [
    "my_string = 'hello_world'\n",
    "a = my_string.split('_')\n",
    "\n",
    "print(a) #默认 为数组，也就是列表\n",
    "print(type(a))"
   ]
  },
  {
   "cell_type": "code",
   "execution_count": 43,
   "metadata": {},
   "outputs": [
    {
     "name": "stdout",
     "output_type": "stream",
     "text": [
      "hello world\n"
     ]
    }
   ],
   "source": [
    "my_string = 'hello_world'\n",
    "newStr = my_string.replace('_',' ')\n",
    "print(newStr)"
   ]
  },
  {
   "cell_type": "code",
   "execution_count": 44,
   "metadata": {},
   "outputs": [
    {
     "name": "stdout",
     "output_type": "stream",
     "text": [
      "hello world\n"
     ]
    }
   ],
   "source": [
    "my_string = ' hello world\\n'\n",
    "str = my_string.strip()\n",
    "print(str)"
   ]
  },
  {
   "cell_type": "code",
   "execution_count": 45,
   "metadata": {},
   "outputs": [
    {
     "name": "stdout",
     "output_type": "stream",
     "text": [
      "HELLO_WORLD\n",
      "hello_world\n",
      "Hello_world\n"
     ]
    }
   ],
   "source": [
    "my_string = 'Hello_World'\n",
    "up = my_string.upper()\n",
    "low = my_string.lower()\n",
    "cap = my_string.capitalize()\n",
    "print(up)\n",
    "print(low)\n",
    "print(cap)\n"
   ]
  },
  {
   "cell_type": "code",
   "execution_count": 54,
   "metadata": {},
   "outputs": [
    {
     "name": "stdout",
     "output_type": "stream",
     "text": [
      "老板！我的模型正确率是 0.6504065040650406 !\n",
      "老板！我的模型正确率是0.6504065040650406!\n",
      "老板！我的模型正确率是0.65!\n",
      "大家好！我叫iterhui，我的身高是172 cm, 数学成绩150.00分,英语成绩710分\n",
      "大家好！我叫iterhui，我的身高是172 cm, 数学成绩150.00分,英语成绩710分\n",
      "大家好！我叫iterhui，我的身高是172 cm, 数学成绩150.00分,英语成绩710分\n"
     ]
    }
   ],
   "source": [
    "accuracy = 80/123\n",
    "print('老板！我的模型正确率是', accuracy,'!')\n",
    "\n",
    "accuracy = 80/123\n",
    "print('老板！我的模型正确率是%s!' % accuracy)\n",
    "\n",
    "accuracy = 80/123\n",
    "print('老板！我的模型正确率是%.2f!' % accuracy)\n",
    "\n",
    "name = 'iterhui'\n",
    "hight = 172.1\n",
    "score_math = 150\n",
    "score_cet4 = 710\n",
    "print('大家好！我叫%s，我的身高是%d cm, 数学成绩%.2f分,英语成绩%d分' % (name, hight, score_math, score_cet4))\n",
    "print('大家好！我叫{}，我的身高是{:d} cm, 数学成绩{:.2f}分,英语成绩{}分'.format(name, int(hight), score_math, score_cet4))\n",
    "#python3.6之后的\n",
    "print(f\"大家好！我叫{name}，我的身高是{hight:.0f} cm, 数学成绩{score_math:.2f}分,英语成绩{score_cet4}分\")"
   ]
  },
  {
   "cell_type": "code",
   "execution_count": 55,
   "metadata": {},
   "outputs": [
    {
     "data": {
      "text/plain": [
       "['c', 'd', 'e']"
      ]
     },
     "execution_count": 55,
     "metadata": {},
     "output_type": "execute_result"
    }
   ],
   "source": [
    "list1 = ['a','b','c','d','e','f']\n",
    "list1[2]\n",
    "list1[2:5]"
   ]
  },
  {
   "cell_type": "code",
   "execution_count": 56,
   "metadata": {},
   "outputs": [
    {
     "name": "stdout",
     "output_type": "stream",
     "text": [
      "['a', 'b', 'c', 'd', 'e', 'f', 'g']\n",
      "['a', 'b', 'ooo', 'c', 'd', 'e', 'f', 'g']\n",
      "['a', 'b', 'ooo', 'c', 'd', 'e', 'f', 'g', 'z', 'y', 'x']\n",
      "['z', 'y', 'x']\n"
     ]
    }
   ],
   "source": [
    "list1 = ['a','b','c','d','e','f']\n",
    "list1.append('g') # 在末尾添加元素\n",
    "print(list1)\n",
    "list1.insert(2, 'ooo')  # 在指定位置添加元素，如果指定的下标不存在，那么就是在末尾添加\n",
    "print(list1)\n",
    "\n",
    "list2 = ['z','y','x']\n",
    "list1.extend(list2) #合并两个list   list2中仍有元素\n",
    "print(list1)\n",
    "print(list2)"
   ]
  },
  {
   "cell_type": "code",
   "execution_count": 57,
   "metadata": {},
   "outputs": [
    {
     "name": "stdout",
     "output_type": "stream",
     "text": [
      "3\n",
      "0\n",
      "True\n"
     ]
    }
   ],
   "source": [
    "list1 = ['a','b','a','d','a','f']\n",
    "print(list1.count('a')) \n",
    "\n",
    "list1 = ['a','b','a','d','a','f']\n",
    "print(list1.index('a')) \n",
    "\n",
    "print('a' in list1)"
   ]
  },
  {
   "cell_type": "code",
   "execution_count": 58,
   "metadata": {},
   "outputs": [
    {
     "name": "stdout",
     "output_type": "stream",
     "text": [
      "d\n",
      "['a', 'b', 'a', 'a', 'f']\n",
      "['b', 'a', 'a', 'f']\n"
     ]
    }
   ],
   "source": [
    "list1 = ['a','b','a','d','a','f']\n",
    "print(list1.pop(3)) \n",
    "print(list1)\n",
    "list1.remove('a')\n",
    "print(list1)"
   ]
  },
  {
   "cell_type": "code",
   "execution_count": 59,
   "metadata": {},
   "outputs": [
    {
     "data": {
      "text/plain": [
       "[2, 3, 4, 5, 6]"
      ]
     },
     "execution_count": 59,
     "metadata": {},
     "output_type": "execute_result"
    }
   ],
   "source": [
    "# 有点土但是有效的方法\n",
    "list_1 = [1,2,3,4,5]\n",
    "for i in range(len(list_1)):\n",
    "    list_1[i] += 1\n",
    "\n",
    "list_1  "
   ]
  },
  {
   "cell_type": "code",
   "execution_count": 60,
   "metadata": {},
   "outputs": [
    {
     "data": {
      "text/plain": [
       "[3, 4, 5, 6, 7]"
      ]
     },
     "execution_count": 60,
     "metadata": {},
     "output_type": "execute_result"
    }
   ],
   "source": [
    "# pythonic的方法 完全等效但是非常简洁\n",
    "[n+1 for n in list_1]"
   ]
  },
  {
   "cell_type": "code",
   "execution_count": 61,
   "metadata": {},
   "outputs": [
    {
     "data": {
      "text/plain": [
       "[1, 4, 9, 16, 25, 36, 49, 64, 81, 100]"
      ]
     },
     "execution_count": 61,
     "metadata": {},
     "output_type": "execute_result"
    }
   ],
   "source": [
    "# 1-10之间所有数的平方 \n",
    "[(n+1)**2 for n in range(10)]"
   ]
  },
  {
   "cell_type": "code",
   "execution_count": 69,
   "metadata": {},
   "outputs": [
    {
     "name": "stdout",
     "output_type": "stream",
     "text": [
      "['app_0', 'app_1', 'app_2', 'app_3', 'app_4', 'app_5', 'app_6', 'app_7', 'app_8', 'app_9']\n"
     ]
    }
   ],
   "source": [
    "list1 = ['a','b','a','d','a','f']\n",
    "a = ['app_%s'%n for n in range(10)]\n",
    "print(a)"
   ]
  },
  {
   "cell_type": "code",
   "execution_count": 65,
   "metadata": {},
   "outputs": [
    {
     "data": {
      "text/plain": [
       "['AX', 'AY', 'AZ', 'BX', 'BY', 'BZ', 'CX', 'CY', 'CZ']"
      ]
     },
     "execution_count": 65,
     "metadata": {},
     "output_type": "execute_result"
    }
   ],
   "source": [
    "[m + n for m in 'ABC' for n in 'XYZ']"
   ]
  },
  {
   "cell_type": "code",
   "execution_count": 72,
   "metadata": {},
   "outputs": [
    {
     "name": "stdout",
     "output_type": "stream",
     "text": [
      "[0, 1, 4, 9, 16, 25, 36, 49, 64, 81]\n"
     ]
    }
   ],
   "source": [
    "# 第一种方法：类似列表生成式\n",
    "L = [x * x for x in range(10)]\n",
    "print(L)"
   ]
  },
  {
   "cell_type": "code",
   "execution_count": 73,
   "metadata": {},
   "outputs": [
    {
     "name": "stdout",
     "output_type": "stream",
     "text": [
      "<generator object <genexpr> at 0x0000020FA39E1120>\n"
     ]
    }
   ],
   "source": [
    "g = (x * x for x in range(10))\n",
    "print(g)"
   ]
  },
  {
   "cell_type": "code",
   "execution_count": 74,
   "metadata": {},
   "outputs": [
    {
     "data": {
      "text/plain": [
       "0"
      ]
     },
     "execution_count": 74,
     "metadata": {},
     "output_type": "execute_result"
    }
   ],
   "source": [
    "next(g)"
   ]
  },
  {
   "cell_type": "code",
   "execution_count": 75,
   "metadata": {},
   "outputs": [
    {
     "data": {
      "text/plain": [
       "1"
      ]
     },
     "execution_count": 75,
     "metadata": {},
     "output_type": "execute_result"
    }
   ],
   "source": [
    "next(g)"
   ]
  },
  {
   "cell_type": "code",
   "execution_count": 77,
   "metadata": {},
   "outputs": [
    {
     "name": "stdout",
     "output_type": "stream",
     "text": [
      "1    1    2    3    5    8    13    21    34    55    89    144    233    377    610    987    1597    2584    4181    6765    "
     ]
    }
   ],
   "source": [
    "# 练习 斐波那契数列\n",
    "def feb(max_num):\n",
    "    n_1 = 1\n",
    "    n_2 = 1\n",
    "    n = 0\n",
    "    while n<max_num:\n",
    "        if n == 0 or n == 1:\n",
    "            yield 1\n",
    "            n += 1\n",
    "        else:\n",
    "            yield n_1 + n_2\n",
    "            new_n_2 = n_1 \n",
    "            n_1 = n_1 + n_2\n",
    "            n_2 = new_n_2\n",
    "            n += 1\n",
    "g = feb(20)\n",
    "for n in g:\n",
    "    print(n,end=\"    \")"
   ]
  },
  {
   "cell_type": "code",
   "execution_count": 78,
   "metadata": {},
   "outputs": [
    {
     "name": "stdout",
     "output_type": "stream",
     "text": [
      "0\n",
      "[2, 2, 3, 4, '5', 6, 7, 8]\n",
      "正确执行\n",
      "我总是会被执行\n",
      "1\n",
      "[2, 3, 3, 4, '5', 6, 7, 8]\n",
      "正确执行\n",
      "我总是会被执行\n",
      "2\n",
      "[2, 3, 4, 4, '5', 6, 7, 8]\n",
      "正确执行\n",
      "我总是会被执行\n",
      "3\n",
      "[2, 3, 4, 5, '5', 6, 7, 8]\n",
      "正确执行\n",
      "我总是会被执行\n",
      "4\n",
      "有错误发生\n",
      "我总是会被执行\n",
      "5\n",
      "[2, 3, 4, 5, '5', 7, 7, 8]\n",
      "正确执行\n",
      "我总是会被执行\n",
      "6\n",
      "[2, 3, 4, 5, '5', 7, 8, 8]\n",
      "正确执行\n",
      "我总是会被执行\n",
      "7\n",
      "[2, 3, 4, 5, '5', 7, 8, 9]\n",
      "正确执行\n",
      "我总是会被执行\n"
     ]
    }
   ],
   "source": [
    "list1 = [1,2,3,4,'5',6,7,8]\n",
    "n=1\n",
    "for i in range(len(list1)):\n",
    "    print(i)\n",
    "    try:\n",
    "        list1[i]+=1\n",
    "        print(list1)\n",
    "    except IOError as e:\n",
    "        print(e)\n",
    "        print('输入输出异常')\n",
    "    except:\n",
    "        print('有错误发生')\n",
    "    else:\n",
    "        print('正确执行')\n",
    "    finally:\n",
    "        print('我总是会被执行')"
   ]
  },
  {
   "cell_type": "code",
   "execution_count": 80,
   "metadata": {},
   "outputs": [
    {
     "name": "stdout",
     "output_type": "stream",
     "text": [
      "姓名： Alice\n"
     ]
    },
    {
     "data": {
      "text/plain": [
       "dict"
      ]
     },
     "execution_count": 80,
     "metadata": {},
     "output_type": "execute_result"
    }
   ],
   "source": [
    "def student_name(name):\n",
    "    \"打印学生的名字\"\n",
    "    print('姓名：', name)\n",
    "    return {'姓名':name}\n",
    "rst = student_name('Alice')\n",
    "type(rst) "
   ]
  },
  {
   "cell_type": "code",
   "execution_count": 81,
   "metadata": {},
   "outputs": [
    {
     "data": {
      "text/plain": [
       "5.0"
      ]
     },
     "execution_count": 81,
     "metadata": {},
     "output_type": "execute_result"
    }
   ],
   "source": [
    "## 函数的嵌套调用\n",
    "def worker(s):\n",
    "    rst = 10 / float(s)\n",
    "    return rst\n",
    "\n",
    "def group_leader(s):\n",
    "    rst = worker(s) * 2\n",
    "    return rst\n",
    "\n",
    "def CTO(s):\n",
    "    return group_leader(s)\n",
    "\n",
    "CTO('4')"
   ]
  },
  {
   "cell_type": "code",
   "execution_count": 82,
   "metadata": {},
   "outputs": [
    {
     "name": "stdout",
     "output_type": "stream",
     "text": [
      "姓名：张三 年龄 18\n"
     ]
    }
   ],
   "source": [
    "def student_name_and_age(name, age):\n",
    "    print('姓名：%s 年龄 %s' %(name, age))\n",
    "\n",
    "student_name_and_age('张三', 18)"
   ]
  },
  {
   "cell_type": "code",
   "execution_count": 83,
   "metadata": {},
   "outputs": [
    {
     "name": "stdout",
     "output_type": "stream",
     "text": [
      "姓名：张三 年龄 不愿透露\n"
     ]
    }
   ],
   "source": [
    "def student_name_and_age(name, age='不愿透露'):\n",
    "    \"设置默认参数\"\n",
    "    print('姓名：%s 年龄 %s' %(name, age))\n",
    "student_name_and_age('张三')"
   ]
  },
  {
   "cell_type": "code",
   "execution_count": 84,
   "metadata": {},
   "outputs": [
    {
     "name": "stdout",
     "output_type": "stream",
     "text": [
      "姓名： 张三\n",
      "姓名： 李四\n",
      "姓名： 王五\n"
     ]
    }
   ],
   "source": [
    "def all_student_names(*names):\n",
    "    for name in names:\n",
    "        print('姓名：', name)\n",
    "        \n",
    "all_student_names('张三','李四','王五')"
   ]
  },
  {
   "cell_type": "code",
   "execution_count": 85,
   "metadata": {},
   "outputs": [
    {
     "name": "stdout",
     "output_type": "stream",
     "text": [
      "我的名字叫：张三,年龄：18,其它信息：{'height': 180}\n"
     ]
    }
   ],
   "source": [
    "def student_info(name, age, **kw):\n",
    "    print(f'我的名字叫：{name},年龄：{age},其它信息：{kw}')\n",
    "student_info('张三', 18, height=180)"
   ]
  },
  {
   "cell_type": "code",
   "execution_count": 86,
   "metadata": {},
   "outputs": [
    {
     "name": "stdout",
     "output_type": "stream",
     "text": [
      "我的名字叫： 张三 年龄： 18 身高 180 体重 75\n"
     ]
    }
   ],
   "source": [
    "def print_person_info(name, age, *, height, weight):\n",
    "    print('我的名字叫：', name, '年龄：', age,'身高', height, '体重', weight)\n",
    "print_person_info('张三', 18, height=180, weight=75)"
   ]
  },
  {
   "cell_type": "code",
   "execution_count": 87,
   "metadata": {},
   "outputs": [
    {
     "name": "stdout",
     "output_type": "stream",
     "text": [
      "我的名字叫： 张三 年龄： 18 其它信息： {'city': '北京', 'height': 180, 'weight': 75}\n",
      "来自： 北京\n",
      "我有 语文 书\n",
      "我有 数学 书\n",
      "我有 计算机 书\n"
     ]
    }
   ],
   "source": [
    "def student_info(name, age=18, *books, **kw):\n",
    "    print('我的名字叫：', name, '年龄：', age,'其它信息：',kw)\n",
    "    if 'city' in kw:\n",
    "        print('来自：', kw['city'])\n",
    "    for book in books:\n",
    "        print('我有',book,'书')\n",
    "student_info('张三', 18, '语文','数学','计算机', city='北京', height=180, weight=75)"
   ]
  },
  {
   "cell_type": "code",
   "execution_count": 88,
   "metadata": {},
   "outputs": [
    {
     "data": {
      "text/plain": [
       "<function __main__.<lambda>(arg1, arg2)>"
      ]
     },
     "execution_count": 88,
     "metadata": {},
     "output_type": "execute_result"
    }
   ],
   "source": [
    "lambda arg1, arg2: arg1 + arg2"
   ]
  },
  {
   "cell_type": "code",
   "execution_count": 89,
   "metadata": {},
   "outputs": [
    {
     "data": {
      "text/plain": [
       "3"
      ]
     },
     "execution_count": 89,
     "metadata": {},
     "output_type": "execute_result"
    }
   ],
   "source": [
    "(lambda arg1, arg2: arg1 + arg2)(1,2)"
   ]
  },
  {
   "cell_type": "code",
   "execution_count": 90,
   "metadata": {},
   "outputs": [
    {
     "data": {
      "text/plain": [
       "[-21, -12, 5, 9, 36]"
      ]
     },
     "execution_count": 90,
     "metadata": {},
     "output_type": "execute_result"
    }
   ],
   "source": [
    "sorted([36, 5, -12, 9, -21])"
   ]
  },
  {
   "cell_type": "code",
   "execution_count": 91,
   "metadata": {},
   "outputs": [
    {
     "data": {
      "text/plain": [
       "[36, 9, 5, -12, -21]"
      ]
     },
     "execution_count": 91,
     "metadata": {},
     "output_type": "execute_result"
    }
   ],
   "source": [
    "sorted([36, 5, -12, 9, -21], reverse=True)"
   ]
  },
  {
   "cell_type": "code",
   "execution_count": 93,
   "metadata": {},
   "outputs": [
    {
     "name": "stdout",
     "output_type": "stream",
     "text": [
      "[(5, 2), (7, 3), (3, 4), (1, 1), (2, 6)]\n"
     ]
    }
   ],
   "source": [
    "points = [(5,2), (7,3), (3,4),(1,1),(2,6)]  # 按x坐标排序 y坐标排序 和0点距离排序\n",
    "print(points)"
   ]
  },
  {
   "cell_type": "code",
   "execution_count": 94,
   "metadata": {},
   "outputs": [],
   "source": [
    "import time "
   ]
  },
  {
   "cell_type": "code",
   "execution_count": 95,
   "metadata": {},
   "outputs": [
    {
     "name": "stdout",
     "output_type": "stream",
     "text": [
      "1612889344.3693287\n",
      "1612889345.3699546\n"
     ]
    }
   ],
   "source": [
    "print(time.time())\n",
    "time.sleep(1)\n",
    "print(time.time())"
   ]
  },
  {
   "cell_type": "code",
   "execution_count": 96,
   "metadata": {},
   "outputs": [],
   "source": [
    " class Athlete:\n",
    "    def __init__(self,a_name,a_dob=None,a_times=[]):\n",
    "        self.name = a_name\n",
    "        self.dob = a_dob\n",
    "        self.times = a_times\n",
    "    def top3(self):\n",
    "        return sorted(set([self.sanitize(t) for t in self.times]))[0:3]\n",
    "    def sanitize(self,time_string):\n",
    "        if '-' in time_string:\n",
    "            splitter = '-'\n",
    "        elif ':' in time_string:\n",
    "            splitter = ':'\n",
    "        else:\n",
    "            return (time_string)\n",
    "        (mins,secs) = time_string.split(splitter)\n",
    "        return (mins+'.'+secs)\n",
    "\n",
    "\n",
    "class Rugby(Athlete):\n",
    "    def __init__(self,a_name,a_dob,a_squat,a_times):\n",
    "        \n",
    "        #调用父类的构造方法，传递的参数为a_dob、a_times\n",
    "        Athlete.__init__(self,a_name,a_dob,a_times)   \n",
    "        #将a_squat赋值给类属性squat\n",
    "        self.squat = a_squat"
   ]
  },
  {
   "cell_type": "code",
   "execution_count": 97,
   "metadata": {},
   "outputs": [],
   "source": [
    "#代码1，定义OtherAthlete类继承Athlete\n",
    "class OtherAthlete(Athlete):\n",
    "    def __init__(self,a_name,a_dob,a_squat,a_times):\n",
    "        Athlete.__init__(self,a_name,a_dob,a_times)\n",
    "\n",
    "        self.squat = a_squat\n",
    "\n",
    "    def top3(self):\n",
    "    #代码2，定义无参数top3函数，对self.times属性应用统一化和排序功能\n",
    "        return sorted([self.sanitize(t) for t in self.times])[0:3]"
   ]
  },
  {
   "cell_type": "code",
   "execution_count": 105,
   "metadata": {},
   "outputs": [
    {
     "name": "stdout",
     "output_type": "stream",
     "text": [
      "loren\n",
      "2011-11-3\n",
      "270\n",
      "['3.11', '3.23', '3.59']\n",
      "mark\n",
      "2010-2-4\n",
      "300\n",
      "['3.11', '3.11', '3.23']\n"
     ]
    }
   ],
   "source": [
    "#3题 定义print_rugby函数，以多态的方式调用子类属性和方法  （5分）\n",
    "def get_coach_data(filename):\n",
    "    with open(filename) as f:\n",
    "        line = f.readline()\n",
    "    return line.strip().split(',')\n",
    "\n",
    "loren = get_coach_data('loren.txt')\n",
    "mark = get_coach_data('mark.txt')\n",
    "\n",
    "loren = Rugby(loren.pop(0),loren.pop(0),loren.pop(0),loren)\n",
    "mark = OtherAthlete(mark.pop(0),mark.pop(0),mark.pop(0),mark)\n",
    "\n",
    "def print_rugby(athlete):\n",
    "    print(athlete.name)\n",
    "    #代码1，打印athlete的属性dob、squat和top3方法的返回值\n",
    "    print(athlete.dob)\n",
    "    print(athlete.squat)\n",
    "    print(athlete.top3())\n",
    "    \n",
    "#代码2，调用print_rugby函数，参数为loren\n",
    "print_rugby(loren)\n",
    "\n",
    "#代码3，调用print_rugby函数，参数为mark\n",
    "print_rugby(mark)"
   ]
  },
  {
   "cell_type": "code",
   "execution_count": null,
   "metadata": {},
   "outputs": [],
   "source": [
    "# 请在此处完成代码\n",
    "def get_coach_data(filename):\n",
    "    with open(filename) as f:\n",
    "        line = f.readline()\n",
    "    return line.strip().split(',')\n",
    "\n",
    "class Student:\n",
    "    def __init__(self,name,dob,age,gender,score=[]):\n",
    "        self.name = name\n",
    "        self.dob = dob\n",
    "        self.age = age\n",
    "        self.gender = gender\n",
    "        self.score = score\n",
    "\n",
    "    def top3(self):\n",
    "        return sorted(set([self.sanitize(t) for t in self.score]))[-3:]\n",
    "\n",
    "    def sanitize(self,time_string):\n",
    "        if '-' in time_string:\n",
    "            splitter = '-'\n",
    "        else:\n",
    "            return (time_string)\n",
    "        (mins,secs) = time_string.split(splitter)\n",
    "        return secs\n",
    "\n",
    "    def print_info(self):\n",
    "        print('姓名:',self.name,end='')\n",
    "        print(' 生日:',self.dob,end='')\n",
    "        print(' 年龄:',self.age,end='')\n",
    "        print(' 性别:',self.gender,end='')\n",
    "        print(' 分数:',self.top3(),end='\\n')\n",
    "\n",
    "stu1_data = get_coach_data('stu1.txt')\n",
    "stu2_data = get_coach_data('stu2.txt')\n",
    "stu3_data = get_coach_data('stu3.txt')\n",
    "stu4_data = get_coach_data('stu4.txt')\n",
    "\n",
    "stu_list = []\n",
    "\n",
    "stu_list.append(Student(stu1_data.pop(0),stu1_data.pop(0),stu1_data.pop(0),stu1_data.pop(0),stu1_data).print_info())\n",
    "stu_list.append(Student(stu2_data.pop(0),stu2_data.pop(0),stu2_data.pop(0),stu2_data.pop(0),stu2_data).print_info())\n",
    "stu_list.append(Student(stu3_data.pop(0),stu3_data.pop(0),stu3_data.pop(0),stu3_data.pop(0),stu3_data).print_info())\n",
    "stu_list.append(Student(stu4_data.pop(0),stu4_data.pop(0),stu4_data.pop(0),stu4_data.pop(0),stu4_data).print_info())"
   ]
  },
  {
   "cell_type": "code",
   "execution_count": null,
   "metadata": {},
   "outputs": [],
   "source": [
    "# 请在此处完成代码\n",
    "class Spostudent(Student):\n",
    "    def __init__(self,name,dob,age,gender,spe,score=[]):\n",
    "        #调用父类__init__\n",
    "        Student.__init__(self,name,dob,age,gender,score)\n",
    "        self.spe = spe\n",
    "\n",
    "    def top3(self):\n",
    "        return sorted(list([self.sanitize(t) for t in self.score]))[:3]\n",
    "\n",
    "    def print_info(self):\n",
    "        print('姓名:',self.name,end='')\n",
    "        print(' 生日:',self.dob,end='')\n",
    "        print(' 年龄:',self.age,end='')\n",
    "        print(' 性别:',self.gender,end='')\n",
    "        print(' 分数:',self.top3(),end='')\n",
    "        print(' 特长分:',self.spe,end='\\n')\n",
    "\n",
    "class Artstudent(Spostudent):\n",
    "    def __init__(self,name,dob,age,gender,spe,score=[]):\n",
    "        #调用父类__init__\n",
    "        Spostudent.__init__(self,name,dob,age,gender,spe,score)\n",
    "\n",
    "    def top3(self):\n",
    "        return sorted(list([self.sanitize(t) for t in self.score]))[-3:]\n",
    "\n",
    "stu5_data = get_coach_data('stu5.txt')\n",
    "stu6_data = get_coach_data('stu6.txt')\n",
    "\n",
    "Spostudent(stu5_data.pop(0),stu5_data.pop(0),stu5_data.pop(0),stu5_data.pop(0),stu5_data.pop(0),stu5_data).print_info()\n",
    "\n",
    "Artstudent(stu6_data.pop(0),stu6_data.pop(0),stu6_data.pop(0),stu6_data.pop(0),stu6_data.pop(0),stu6_data).print_info()"
   ]
  },
  {
   "cell_type": "code",
   "execution_count": null,
   "metadata": {},
   "outputs": [],
   "source": []
  },
  {
   "cell_type": "code",
   "execution_count": null,
   "metadata": {},
   "outputs": [],
   "source": []
  },
  {
   "cell_type": "code",
   "execution_count": null,
   "metadata": {},
   "outputs": [],
   "source": []
  },
  {
   "cell_type": "code",
   "execution_count": null,
   "metadata": {},
   "outputs": [],
   "source": []
  },
  {
   "cell_type": "code",
   "execution_count": null,
   "metadata": {},
   "outputs": [],
   "source": []
  },
  {
   "cell_type": "code",
   "execution_count": null,
   "metadata": {},
   "outputs": [],
   "source": []
  },
  {
   "cell_type": "code",
   "execution_count": null,
   "metadata": {},
   "outputs": [],
   "source": []
  },
  {
   "cell_type": "code",
   "execution_count": null,
   "metadata": {},
   "outputs": [],
   "source": []
  },
  {
   "cell_type": "code",
   "execution_count": null,
   "metadata": {},
   "outputs": [],
   "source": []
  },
  {
   "cell_type": "code",
   "execution_count": null,
   "metadata": {},
   "outputs": [],
   "source": []
  },
  {
   "cell_type": "code",
   "execution_count": null,
   "metadata": {},
   "outputs": [],
   "source": []
  },
  {
   "cell_type": "code",
   "execution_count": null,
   "metadata": {},
   "outputs": [],
   "source": []
  },
  {
   "cell_type": "code",
   "execution_count": null,
   "metadata": {},
   "outputs": [],
   "source": []
  },
  {
   "cell_type": "code",
   "execution_count": null,
   "metadata": {},
   "outputs": [],
   "source": []
  },
  {
   "cell_type": "code",
   "execution_count": null,
   "metadata": {},
   "outputs": [],
   "source": []
  },
  {
   "cell_type": "code",
   "execution_count": null,
   "metadata": {},
   "outputs": [],
   "source": []
  },
  {
   "cell_type": "code",
   "execution_count": null,
   "metadata": {},
   "outputs": [],
   "source": []
  }
 ],
 "metadata": {
  "kernelspec": {
   "display_name": "Python 3",
   "language": "python",
   "name": "python3"
  },
  "language_info": {
   "codemirror_mode": {
    "name": "ipython",
    "version": 3
   },
   "file_extension": ".py",
   "mimetype": "text/x-python",
   "name": "python",
   "nbconvert_exporter": "python",
   "pygments_lexer": "ipython3",
   "version": "3.8.3"
  }
 },
 "nbformat": 4,
 "nbformat_minor": 4
}
